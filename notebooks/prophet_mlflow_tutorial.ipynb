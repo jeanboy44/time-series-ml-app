{
 "cells": [
  {
   "cell_type": "markdown",
   "metadata": {},
   "source": [
    "https://facebook.github.io/prophet/docs/quick_start.html"
   ]
  },
  {
   "cell_type": "code",
   "execution_count": null,
   "metadata": {},
   "outputs": [],
   "source": [
    "# Python\n",
    "import mlflow.prophet\n",
    "import pandas as pd\n",
    "from prophet import Prophet\n",
    "from prophet.plot import plot_components_plotly\n",
    "from sklearn.metrics import mean_squared_error\n",
    "from src.app.app_utils import plot_plotly_with_testset"
   ]
  },
  {
   "cell_type": "markdown",
   "metadata": {},
   "source": [
    "## 데이터 불러오기"
   ]
  },
  {
   "cell_type": "code",
   "execution_count": null,
   "metadata": {},
   "outputs": [],
   "source": [
    "# Python\n",
    "df = pd.read_csv('https://raw.githubusercontent.com/facebook/prophet/main/examples/example_wp_log_peyton_manning.csv')\n",
    "df.head()"
   ]
  },
  {
   "cell_type": "markdown",
   "metadata": {},
   "source": [
    "## 학습, 테스트셋 준비"
   ]
  },
  {
   "cell_type": "code",
   "execution_count": null,
   "metadata": {},
   "outputs": [],
   "source": [
    "df['ds'] = pd.to_datetime(df.ds)\n",
    "df_train = df[df.ds < \"2015-01-01\"]\n",
    "df_test = df[(df.ds >= \"2015-01-01\") & (df.ds < \"2016-01-01\")]"
   ]
  },
  {
   "cell_type": "markdown",
   "metadata": {},
   "source": [
    "## 모델 학습 및 평가"
   ]
  },
  {
   "cell_type": "code",
   "execution_count": null,
   "metadata": {},
   "outputs": [],
   "source": [
    "# 파라미터 조정\n",
    "params = {\n",
    "    # \"growth\": \"linear\",\n",
    "    # \"changepoint_prior_scale\": 0.5,\n",
    "    # \"seasonality_prior_scale\": 0.1\n",
    "}"
   ]
  },
  {
   "cell_type": "code",
   "execution_count": null,
   "metadata": {},
   "outputs": [],
   "source": [
    "experiment = mlflow.get_experiment_by_name(\"train_prophet_model\")\n",
    "if experiment is None:\n",
    "    experiment_id = mlflow.create_experiment(\"train_prophet_model\")\n",
    "    print(\"Experiment train_prophet_model is created\")\n",
    "else:\n",
    "    experiment_id = experiment.experiment_id\n",
    "\n",
    "with mlflow.start_run(experiment_id=experiment_id) as run:\n",
    "    model = Prophet(**params)\n",
    "    model.fit(df_train)\n",
    "\n",
    "    future = model.make_future_dataframe(periods=365, include_history=False)\n",
    "    forecast = model.predict(future)\n",
    "\n",
    "    results = pd.merge(\n",
    "        df_test[['ds','y']],\n",
    "        forecast[['ds','yhat']],\n",
    "        on='ds', how=\"left\"\n",
    "        )\n",
    "    rmse_ = mean_squared_error(results.y, results.yhat)\n",
    "    print(rmse_)\n",
    "    \n",
    "    mlflow.log_metric(\"rmse\", rmse_)\n",
    "    mlflow.prophet.log_model(model, artifact_path=\"prophet_model\")\n",
    "\n",
    "    # 모델 등록\n",
    "    mlflow.register_model(\n",
    "            f\"runs:/{run.info.run_id}/prophet_model\", \"prophet_model\"\n",
    "        )"
   ]
  },
  {
   "cell_type": "markdown",
   "metadata": {},
   "source": [
    "## 시각화"
   ]
  },
  {
   "cell_type": "code",
   "execution_count": null,
   "metadata": {},
   "outputs": [],
   "source": [
    "future = model.make_future_dataframe(periods=365, include_history=True)\n",
    "forecast = model.predict(future)\n",
    "plot_plotly_with_testset(model, forecast, df_test)"
   ]
  },
  {
   "cell_type": "code",
   "execution_count": null,
   "metadata": {},
   "outputs": [],
   "source": [
    "plot_components_plotly(model, forecast)"
   ]
  }
 ],
 "metadata": {
  "kernelspec": {
   "display_name": ".venv",
   "language": "python",
   "name": "python3"
  },
  "language_info": {
   "codemirror_mode": {
    "name": "ipython",
    "version": 3
   },
   "file_extension": ".py",
   "mimetype": "text/x-python",
   "name": "python",
   "nbconvert_exporter": "python",
   "pygments_lexer": "ipython3",
   "version": "3.10.12"
  }
 },
 "nbformat": 4,
 "nbformat_minor": 2
}
